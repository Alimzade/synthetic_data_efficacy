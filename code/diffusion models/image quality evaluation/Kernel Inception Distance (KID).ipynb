{
 "cells": [
  {
   "cell_type": "code",
   "execution_count": 2,
   "metadata": {},
   "outputs": [
    {
     "name": "stderr",
     "output_type": "stream",
     "text": [
      "Processing samples                                                         \n",
      "                                                                                 "
     ]
    },
    {
     "name": "stdout",
     "output_type": "stream",
     "text": [
      "Keys in returned dictionary: dict_keys(['kernel_inception_distance_mean', 'kernel_inception_distance_std'])\n"
     ]
    },
    {
     "name": "stderr",
     "output_type": "stream",
     "text": [
      "Kernel Inception Distance: 0.04571237271559962 ± 0.005898767813867571\n"
     ]
    }
   ],
   "source": [
    "# glioma\n",
    "\n",
    "from torch_fidelity import calculate_metrics\n",
    "\n",
    "generated_images_path = '/root/group2/generated_images/glioma_256'\n",
    "real_images_path = '/root/group2/data_256/Training/glioma'\n",
    "\n",
    "kid_score = calculate_metrics(\n",
    "    input1=generated_images_path, \n",
    "    input2=real_images_path,\n",
    "    isc=False, \n",
    "    fid=False, \n",
    "    kid=True,\n",
    "    kid_subset_size=92\n",
    ")\n",
    "\n",
    "# Print all keys in the returned dictionary\n",
    "print(\"Keys in returned dictionary:\", kid_score.keys())"
   ]
  },
  {
   "cell_type": "code",
   "execution_count": null,
   "metadata": {},
   "outputs": [
    {
     "name": "stderr",
     "output_type": "stream",
     "text": [
      "Processing samples                                                         \n",
      "                                                                                 "
     ]
    },
    {
     "name": "stdout",
     "output_type": "stream",
     "text": [
      "Keys in returned dictionary: dict_keys(['kernel_inception_distance_mean', 'kernel_inception_distance_std'])\n"
     ]
    },
    {
     "name": "stderr",
     "output_type": "stream",
     "text": [
      "Kernel Inception Distance: 0.035681583681338155 ± 0.0043735781519416575\n"
     ]
    }
   ],
   "source": [
    "# meningioma\n",
    "\n",
    "from torch_fidelity import calculate_metrics\n",
    "\n",
    "generated_images_path = '/root/group2/generated_images/meningioma_256'\n",
    "real_images_path = '/root/group2/data_256/Training/meningioma'\n",
    "\n",
    "kid_score = calculate_metrics(\n",
    "    input1=generated_images_path, \n",
    "    input2=real_images_path,\n",
    "    isc=False, \n",
    "    fid=False, \n",
    "    kid=True,\n",
    "    kid_subset_size=92\n",
    ")\n",
    "\n",
    "# Print all keys in the returned dictionary\n",
    "print(\"Keys in returned dictionary:\", kid_score.keys())"
   ]
  },
  {
   "cell_type": "code",
   "execution_count": 6,
   "metadata": {},
   "outputs": [
    {
     "name": "stderr",
     "output_type": "stream",
     "text": [
      "Processing samples                                                         \n",
      "                                                                                 "
     ]
    },
    {
     "name": "stdout",
     "output_type": "stream",
     "text": [
      "Keys in returned dictionary: dict_keys(['kernel_inception_distance_mean', 'kernel_inception_distance_std'])\n"
     ]
    },
    {
     "name": "stderr",
     "output_type": "stream",
     "text": [
      "Kernel Inception Distance: 0.07376858961037636 ± 0.006701126424817835\n"
     ]
    }
   ],
   "source": [
    "# pituitary\n",
    "\n",
    "from torch_fidelity import calculate_metrics\n",
    "\n",
    "generated_images_path = '/root/group2/generated_images/pituitary_256'\n",
    "real_images_path = '/root/group2/data_256/Training/pituitary'\n",
    "\n",
    "kid_score = calculate_metrics(\n",
    "    input1=generated_images_path, \n",
    "    input2=real_images_path,\n",
    "    isc=False, \n",
    "    fid=False, \n",
    "    kid=True,\n",
    "    kid_subset_size=92\n",
    ")\n",
    "\n",
    "# Print all keys in the returned dictionary\n",
    "print(\"Keys in returned dictionary:\", kid_score.keys())"
   ]
  },
  {
   "cell_type": "code",
   "execution_count": 2,
   "metadata": {},
   "outputs": [
    {
     "name": "stderr",
     "output_type": "stream",
     "text": [
      "Processing samples                                                         \n",
      "                                                                                 "
     ]
    },
    {
     "name": "stdout",
     "output_type": "stream",
     "text": [
      "Keys in returned dictionary: dict_keys(['kernel_inception_distance_mean', 'kernel_inception_distance_std'])\n"
     ]
    },
    {
     "name": "stderr",
     "output_type": "stream",
     "text": [
      "Kernel Inception Distance: 0.04239463492824006 ± 0.004378721226773046\n"
     ]
    }
   ],
   "source": [
    "# notumor\n",
    "\n",
    "from torch_fidelity import calculate_metrics\n",
    "\n",
    "generated_images_path = '/root/group2/generated_images/notumor_256'\n",
    "real_images_path = '/root/group2/data_256/Training/notumor'\n",
    "\n",
    "kid_score = calculate_metrics(\n",
    "    input1=generated_images_path, \n",
    "    input2=real_images_path,\n",
    "    isc=False, \n",
    "    fid=False, \n",
    "    kid=True,\n",
    "    kid_subset_size=92\n",
    ")\n",
    "\n",
    "# Print all keys in the returned dictionary\n",
    "print(\"Keys in returned dictionary:\", kid_score.keys())"
   ]
  }
 ],
 "metadata": {
  "kernelspec": {
   "display_name": "environment",
   "language": "python",
   "name": "python3"
  },
  "language_info": {
   "codemirror_mode": {
    "name": "ipython",
    "version": 3
   },
   "file_extension": ".py",
   "mimetype": "text/x-python",
   "name": "python",
   "nbconvert_exporter": "python",
   "pygments_lexer": "ipython3",
   "version": "3.8.18"
  }
 },
 "nbformat": 4,
 "nbformat_minor": 2
}
