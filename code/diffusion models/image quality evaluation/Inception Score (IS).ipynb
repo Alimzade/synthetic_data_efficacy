{
 "cells": [
  {
   "cell_type": "markdown",
   "metadata": {},
   "source": [
    "-------------"
   ]
  },
  {
   "cell_type": "markdown",
   "metadata": {},
   "source": [
    "### `glioma` Inception Score (IS):  real vs generated "
   ]
  },
  {
   "cell_type": "code",
   "execution_count": 6,
   "metadata": {},
   "outputs": [
    {
     "name": "stdout",
     "output_type": "stream",
     "text": [
      "28/28 [==============================] - 16s 540ms/step\n",
      "Inception score (IS) for real glioma images: 4.377898996255012\n"
     ]
    }
   ],
   "source": [
    "import os\n",
    "import numpy as np\n",
    "from tensorflow.keras.applications.inception_v3 import InceptionV3, preprocess_input\n",
    "from tensorflow.keras.preprocessing import image\n",
    "from scipy.stats import entropy\n",
    "\n",
    "def load_images_from_folder(folder, target_size=(299, 299)):\n",
    "    images = []\n",
    "    for img_file in os.listdir(folder):\n",
    "        if img_file.lower().endswith(('.png', '.jpg', '.jpeg')):\n",
    "            img_path = os.path.join(folder, img_file)\n",
    "            img = image.load_img(img_path, target_size=target_size)\n",
    "            img_array = image.img_to_array(img)\n",
    "            img_array = np.expand_dims(img_array, axis=0)\n",
    "            img_array = preprocess_input(img_array)\n",
    "            images.append(img_array)\n",
    "    images = np.vstack(images)\n",
    "    return images\n",
    "\n",
    "def calculate_inception_score(images, inception_model):\n",
    "    preds = inception_model.predict(images)\n",
    "    marginals = np.mean(preds, axis=0)\n",
    "    conditional_entropy = np.mean([entropy(preds[i, :], base=2) for i in range(preds.shape[0])])\n",
    "    marginal_entropy = entropy(marginals, base=2)\n",
    "    return np.exp(marginal_entropy - conditional_entropy)\n",
    "\n",
    "# Load the pretrained Inception model\n",
    "inception_model = InceptionV3(include_top=True, weights='imagenet')\n",
    "\n",
    "# Load and preprocess images\n",
    "folder_x = '/root/group2/data_256/Training/glioma'\n",
    "images_x = load_images_from_folder(folder_x)\n",
    "\n",
    "# Calculate Inception Scores\n",
    "is_x = calculate_inception_score(images_x, inception_model)\n",
    "print(f'Inception score (IS) for real glioma images: {is_x}')"
   ]
  },
  {
   "cell_type": "code",
   "execution_count": 1,
   "metadata": {},
   "outputs": [
    {
     "name": "stdout",
     "output_type": "stream",
     "text": [
      "19/19 [==============================] - 14s 633ms/step\n",
      "Inception score (IS) for generated glioma images: 3.340902018808926\n"
     ]
    }
   ],
   "source": [
    "import os\n",
    "import numpy as np\n",
    "from tensorflow.keras.applications.inception_v3 import InceptionV3, preprocess_input\n",
    "from tensorflow.keras.preprocessing import image\n",
    "from scipy.stats import entropy\n",
    "\n",
    "def load_images_from_folder(folder, target_size=(299, 299)):\n",
    "    images = []\n",
    "    for img_file in os.listdir(folder):\n",
    "        if img_file.lower().endswith(('.png', '.jpg', '.jpeg')):\n",
    "            img_path = os.path.join(folder, img_file)\n",
    "            img = image.load_img(img_path, target_size=target_size)\n",
    "            img_array = image.img_to_array(img)\n",
    "            img_array = np.expand_dims(img_array, axis=0)\n",
    "            img_array = preprocess_input(img_array)\n",
    "            images.append(img_array)\n",
    "    images = np.vstack(images)\n",
    "    return images\n",
    "\n",
    "def calculate_inception_score(images, inception_model):\n",
    "    preds = inception_model.predict(images)\n",
    "    marginals = np.mean(preds, axis=0)\n",
    "    conditional_entropy = np.mean([entropy(preds[i, :], base=2) for i in range(preds.shape[0])])\n",
    "    marginal_entropy = entropy(marginals, base=2)\n",
    "    return np.exp(marginal_entropy - conditional_entropy)\n",
    "\n",
    "# Load the pretrained Inception model\n",
    "inception_model = InceptionV3(include_top=True, weights='imagenet')\n",
    "\n",
    "# Load and preprocess images\n",
    "folder_x = '/root/group2/generated_images/glioma_256'\n",
    "images_x = load_images_from_folder(folder_x)\n",
    "\n",
    "# Calculate Inception Scores\n",
    "is_x = calculate_inception_score(images_x, inception_model)\n",
    "print(f'Inception score (IS) for generated glioma images: {is_x}')"
   ]
  },
  {
   "cell_type": "markdown",
   "metadata": {},
   "source": [
    "------"
   ]
  },
  {
   "cell_type": "markdown",
   "metadata": {},
   "source": [
    "### `meningioma` Inception Score (IS):  real vs generated "
   ]
  },
  {
   "cell_type": "code",
   "execution_count": 2,
   "metadata": {},
   "outputs": [
    {
     "name": "stdout",
     "output_type": "stream",
     "text": [
      "26/26 [==============================] - 16s 566ms/step\n",
      "Inception score (IS) for real meningioma images: 4.241442207494137\n"
     ]
    }
   ],
   "source": [
    "import os\n",
    "import numpy as np\n",
    "from tensorflow.keras.applications.inception_v3 import InceptionV3, preprocess_input\n",
    "from tensorflow.keras.preprocessing import image\n",
    "from scipy.stats import entropy\n",
    "\n",
    "def load_images_from_folder(folder, target_size=(299, 299)):\n",
    "    images = []\n",
    "    for img_file in os.listdir(folder):\n",
    "        if img_file.lower().endswith(('.png', '.jpg', '.jpeg')):\n",
    "            img_path = os.path.join(folder, img_file)\n",
    "            img = image.load_img(img_path, target_size=target_size)\n",
    "            img_array = image.img_to_array(img)\n",
    "            img_array = np.expand_dims(img_array, axis=0)\n",
    "            img_array = preprocess_input(img_array)\n",
    "            images.append(img_array)\n",
    "    images = np.vstack(images)\n",
    "    return images\n",
    "\n",
    "def calculate_inception_score(images, inception_model):\n",
    "    preds = inception_model.predict(images)\n",
    "    marginals = np.mean(preds, axis=0)\n",
    "    conditional_entropy = np.mean([entropy(preds[i, :], base=2) for i in range(preds.shape[0])])\n",
    "    marginal_entropy = entropy(marginals, base=2)\n",
    "    return np.exp(marginal_entropy - conditional_entropy)\n",
    "\n",
    "# Load the pretrained Inception model\n",
    "inception_model = InceptionV3(include_top=True, weights='imagenet')\n",
    "\n",
    "# Load and preprocess images\n",
    "folder_x = '/root/group2/data_256/Training/meningioma'\n",
    "images_x = load_images_from_folder(folder_x)\n",
    "\n",
    "# Calculate Inception Scores\n",
    "is_x = calculate_inception_score(images_x, inception_model)\n",
    "print(f'Inception score (IS) for real meningioma images: {is_x}')"
   ]
  },
  {
   "cell_type": "code",
   "execution_count": 3,
   "metadata": {},
   "outputs": [
    {
     "name": "stdout",
     "output_type": "stream",
     "text": [
      "19/19 [==============================] - 14s 697ms/step\n",
      "Inception score (IS) for generated meningioma images: 3.522878428602119\n"
     ]
    }
   ],
   "source": [
    "import os\n",
    "import numpy as np\n",
    "from tensorflow.keras.applications.inception_v3 import InceptionV3, preprocess_input\n",
    "from tensorflow.keras.preprocessing import image\n",
    "from scipy.stats import entropy\n",
    "\n",
    "def load_images_from_folder(folder, target_size=(299, 299)):\n",
    "    images = []\n",
    "    for img_file in os.listdir(folder):\n",
    "        if img_file.lower().endswith(('.png', '.jpg', '.jpeg')):\n",
    "            img_path = os.path.join(folder, img_file)\n",
    "            img = image.load_img(img_path, target_size=target_size)\n",
    "            img_array = image.img_to_array(img)\n",
    "            img_array = np.expand_dims(img_array, axis=0)\n",
    "            img_array = preprocess_input(img_array)\n",
    "            images.append(img_array)\n",
    "    images = np.vstack(images)\n",
    "    return images\n",
    "\n",
    "def calculate_inception_score(images, inception_model):\n",
    "    preds = inception_model.predict(images)\n",
    "    marginals = np.mean(preds, axis=0)\n",
    "    conditional_entropy = np.mean([entropy(preds[i, :], base=2) for i in range(preds.shape[0])])\n",
    "    marginal_entropy = entropy(marginals, base=2)\n",
    "    return np.exp(marginal_entropy - conditional_entropy)\n",
    "\n",
    "# Load the pretrained Inception model\n",
    "inception_model = InceptionV3(include_top=True, weights='imagenet')\n",
    "\n",
    "# Load and preprocess images\n",
    "folder_x = '/root/group2/generated_images/meningioma_256'\n",
    "images_x = load_images_from_folder(folder_x)\n",
    "\n",
    "# Calculate Inception Scores\n",
    "is_x = calculate_inception_score(images_x, inception_model)\n",
    "print(f'Inception score (IS) for generated meningioma images: {is_x}')"
   ]
  },
  {
   "cell_type": "markdown",
   "metadata": {},
   "source": [
    "-------------"
   ]
  },
  {
   "cell_type": "markdown",
   "metadata": {},
   "source": [
    "### `pituitary` Inception Score (IS):  real vs generated "
   ]
  },
  {
   "cell_type": "code",
   "execution_count": 7,
   "metadata": {},
   "outputs": [
    {
     "name": "stdout",
     "output_type": "stream",
     "text": [
      "23/23 [==============================] - 16s 631ms/step\n",
      "Inception score (IS) for real pituitary images: 3.0690124151159397\n"
     ]
    }
   ],
   "source": [
    "import os\n",
    "import numpy as np\n",
    "from tensorflow.keras.applications.inception_v3 import InceptionV3, preprocess_input\n",
    "from tensorflow.keras.preprocessing import image\n",
    "from scipy.stats import entropy\n",
    "\n",
    "def load_images_from_folder(folder, target_size=(299, 299)):\n",
    "    images = []\n",
    "    for img_file in os.listdir(folder):\n",
    "        if img_file.lower().endswith(('.png', '.jpg', '.jpeg')):\n",
    "            img_path = os.path.join(folder, img_file)\n",
    "            img = image.load_img(img_path, target_size=target_size)\n",
    "            img_array = image.img_to_array(img)\n",
    "            img_array = np.expand_dims(img_array, axis=0)\n",
    "            img_array = preprocess_input(img_array)\n",
    "            images.append(img_array)\n",
    "    images = np.vstack(images)\n",
    "    return images\n",
    "\n",
    "def calculate_inception_score(images, inception_model):\n",
    "    preds = inception_model.predict(images)\n",
    "    marginals = np.mean(preds, axis=0)\n",
    "    conditional_entropy = np.mean([entropy(preds[i, :], base=2) for i in range(preds.shape[0])])\n",
    "    marginal_entropy = entropy(marginals, base=2)\n",
    "    return np.exp(marginal_entropy - conditional_entropy)\n",
    "\n",
    "# Load the pretrained Inception model\n",
    "inception_model = InceptionV3(include_top=True, weights='imagenet')\n",
    "\n",
    "# Load and preprocess images\n",
    "folder_x = '/root/group2/data_256/Training/pituitary'\n",
    "images_x = load_images_from_folder(folder_x)\n",
    "\n",
    "# Calculate Inception Scores\n",
    "is_x = calculate_inception_score(images_x, inception_model)\n",
    "print(f'Inception score (IS) for real pituitary images: {is_x}')"
   ]
  },
  {
   "cell_type": "code",
   "execution_count": 13,
   "metadata": {},
   "outputs": [
    {
     "name": "stdout",
     "output_type": "stream",
     "text": [
      "19/19 [==============================] - 12s 558ms/step\n",
      "Inception score (IS) for generated pituitary images: 2.3576222197524066\n"
     ]
    }
   ],
   "source": [
    "import os\n",
    "import numpy as np\n",
    "from tensorflow.keras.applications.inception_v3 import InceptionV3, preprocess_input\n",
    "from tensorflow.keras.preprocessing import image\n",
    "from scipy.stats import entropy\n",
    "\n",
    "def load_images_from_folder(folder, target_size=(299, 299)):\n",
    "    images = []\n",
    "    for img_file in os.listdir(folder):\n",
    "        if img_file.lower().endswith(('.png', '.jpg', '.jpeg')):\n",
    "            img_path = os.path.join(folder, img_file)\n",
    "            img = image.load_img(img_path, target_size=target_size)\n",
    "            img_array = image.img_to_array(img)\n",
    "            img_array = np.expand_dims(img_array, axis=0)\n",
    "            img_array = preprocess_input(img_array)\n",
    "            images.append(img_array)\n",
    "    images = np.vstack(images)\n",
    "    return images\n",
    "\n",
    "def calculate_inception_score(images, inception_model):\n",
    "    preds = inception_model.predict(images)\n",
    "    marginals = np.mean(preds, axis=0)\n",
    "    conditional_entropy = np.mean([entropy(preds[i, :], base=2) for i in range(preds.shape[0])])\n",
    "    marginal_entropy = entropy(marginals, base=2)\n",
    "    return np.exp(marginal_entropy - conditional_entropy)\n",
    "\n",
    "# Load the pretrained Inception model\n",
    "inception_model = InceptionV3(include_top=True, weights='imagenet')\n",
    "\n",
    "# Load and preprocess images\n",
    "folder_x = '/root/group2/generated_images/pituitary_256'\n",
    "images_x = load_images_from_folder(folder_x)\n",
    "\n",
    "# Calculate Inception Scores\n",
    "is_x = calculate_inception_score(images_x, inception_model)\n",
    "print(f'Inception score (IS) for generated pituitary images: {is_x}')"
   ]
  },
  {
   "cell_type": "markdown",
   "metadata": {},
   "source": [
    "-------------"
   ]
  },
  {
   "cell_type": "markdown",
   "metadata": {},
   "source": [
    "### `notumor` Inception Score (IS):  real vs generated "
   ]
  },
  {
   "cell_type": "code",
   "execution_count": 3,
   "metadata": {},
   "outputs": [
    {
     "name": "stdout",
     "output_type": "stream",
     "text": [
      "26/26 [==============================] - 20s 727ms/step\n",
      "Inception score (IS) for real notumor images: 3.426456921140789\n"
     ]
    }
   ],
   "source": [
    "import os\n",
    "import numpy as np\n",
    "from tensorflow.keras.applications.inception_v3 import InceptionV3, preprocess_input\n",
    "from tensorflow.keras.preprocessing import image\n",
    "from scipy.stats import entropy\n",
    "\n",
    "def load_images_from_folder(folder, target_size=(299, 299)):\n",
    "    images = []\n",
    "    for img_file in os.listdir(folder):\n",
    "        if img_file.lower().endswith(('.png', '.jpg', '.jpeg')):\n",
    "            img_path = os.path.join(folder, img_file)\n",
    "            img = image.load_img(img_path, target_size=target_size)\n",
    "            img_array = image.img_to_array(img)\n",
    "            img_array = np.expand_dims(img_array, axis=0)\n",
    "            img_array = preprocess_input(img_array)\n",
    "            images.append(img_array)\n",
    "    images = np.vstack(images)\n",
    "    return images\n",
    "\n",
    "def calculate_inception_score(images, inception_model):\n",
    "    preds = inception_model.predict(images)\n",
    "    marginals = np.mean(preds, axis=0)\n",
    "    conditional_entropy = np.mean([entropy(preds[i, :], base=2) for i in range(preds.shape[0])])\n",
    "    marginal_entropy = entropy(marginals, base=2)\n",
    "    return np.exp(marginal_entropy - conditional_entropy)\n",
    "\n",
    "# Load the pretrained Inception model\n",
    "inception_model = InceptionV3(include_top=True, weights='imagenet')\n",
    "\n",
    "# Load and preprocess images\n",
    "folder_x = '/root/group2/data_256/Training/notumor'\n",
    "images_x = load_images_from_folder(folder_x)\n",
    "\n",
    "# Calculate Inception Scores\n",
    "is_x = calculate_inception_score(images_x, inception_model)\n",
    "print(f'Inception score (IS) for real notumor images: {is_x}')"
   ]
  },
  {
   "cell_type": "code",
   "execution_count": 1,
   "metadata": {},
   "outputs": [
    {
     "name": "stdout",
     "output_type": "stream",
     "text": [
      "19/19 [==============================] - 11s 535ms/step\n",
      "Inception score (IS) for generated notumor images: 3.255828054356114\n"
     ]
    }
   ],
   "source": [
    "import os\n",
    "import numpy as np\n",
    "from tensorflow.keras.applications.inception_v3 import InceptionV3, preprocess_input\n",
    "from tensorflow.keras.preprocessing import image\n",
    "from scipy.stats import entropy\n",
    "\n",
    "def load_images_from_folder(folder, target_size=(299, 299)):\n",
    "    images = []\n",
    "    for img_file in os.listdir(folder):\n",
    "        if img_file.lower().endswith(('.png', '.jpg', '.jpeg')):\n",
    "            img_path = os.path.join(folder, img_file)\n",
    "            img = image.load_img(img_path, target_size=target_size)\n",
    "            img_array = image.img_to_array(img)\n",
    "            img_array = np.expand_dims(img_array, axis=0)\n",
    "            img_array = preprocess_input(img_array)\n",
    "            images.append(img_array)\n",
    "    images = np.vstack(images)\n",
    "    return images\n",
    "\n",
    "def calculate_inception_score(images, inception_model):\n",
    "    preds = inception_model.predict(images)\n",
    "    marginals = np.mean(preds, axis=0)\n",
    "    conditional_entropy = np.mean([entropy(preds[i, :], base=2) for i in range(preds.shape[0])])\n",
    "    marginal_entropy = entropy(marginals, base=2)\n",
    "    return np.exp(marginal_entropy - conditional_entropy)\n",
    "\n",
    "# Load the pretrained Inception model\n",
    "inception_model = InceptionV3(include_top=True, weights='imagenet')\n",
    "\n",
    "# Load and preprocess images\n",
    "folder_x = '/root/group2/generated_images/notumor_256'\n",
    "images_x = load_images_from_folder(folder_x)\n",
    "\n",
    "# Calculate Inception Scores\n",
    "is_x = calculate_inception_score(images_x, inception_model)\n",
    "print(f'Inception score (IS) for generated notumor images: {is_x}')"
   ]
  },
  {
   "cell_type": "markdown",
   "metadata": {},
   "source": [
    "-------------"
   ]
  }
 ],
 "metadata": {
  "kernelspec": {
   "display_name": "environment",
   "language": "python",
   "name": "python3"
  },
  "language_info": {
   "codemirror_mode": {
    "name": "ipython",
    "version": 3
   },
   "file_extension": ".py",
   "mimetype": "text/x-python",
   "name": "python",
   "nbconvert_exporter": "python",
   "pygments_lexer": "ipython3",
   "version": "3.8.18"
  }
 },
 "nbformat": 4,
 "nbformat_minor": 2
}
