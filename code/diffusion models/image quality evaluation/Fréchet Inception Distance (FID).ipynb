{
 "cells": [
  {
   "cell_type": "code",
   "execution_count": null,
   "metadata": {},
   "outputs": [],
   "source": [
    "import os\n",
    "import numpy as np\n",
    "from scipy.linalg import sqrtm\n",
    "import tensorflow as tf\n",
    "from tensorflow.keras.applications.inception_v3 import InceptionV3, preprocess_input\n",
    "from tensorflow.keras.preprocessing import image\n",
    "\n",
    "def load_and_preprocess_images(img_folder, target_size=(299, 299)):\n",
    "    model = InceptionV3(include_top=False, pooling='avg', input_shape=(299, 299, 3))\n",
    "    images = []\n",
    "    \n",
    "    for img_file in os.listdir(img_folder):\n",
    "        if img_file.lower().endswith(('.png', '.jpg', '.jpeg')):\n",
    "            img_path = os.path.join(img_folder, img_file)\n",
    "            img = image.load_img(img_path, target_size=target_size)\n",
    "            img_array = image.img_to_array(img)\n",
    "            img_array = np.expand_dims(img_array, axis=0)\n",
    "            img_array = preprocess_input(img_array)\n",
    "            images.append(img_array)\n",
    "\n",
    "    images = np.vstack(images)\n",
    "    features = model.predict(images)\n",
    "    return features"
   ]
  },
  {
   "cell_type": "code",
   "execution_count": 2,
   "metadata": {},
   "outputs": [],
   "source": [
    "def calculate_fid(act1, act2):\n",
    "    # Calculate mean and covariance statistics\n",
    "    mu1, sigma1 = act1.mean(axis=0), np.cov(act1, rowvar=False)\n",
    "    mu2, sigma2 = act2.mean(axis=0), np.cov(act2, rowvar=False)\n",
    "\n",
    "    # Calculate sum squared difference between means\n",
    "    ssdiff = np.sum((mu1 - mu2)**2.0)\n",
    "\n",
    "    # Calculate sqrt of product between covariances\n",
    "    covmean = sqrtm(sigma1.dot(sigma2))\n",
    "\n",
    "    # Check and correct imaginary numbers from sqrt\n",
    "    if np.iscomplexobj(covmean):\n",
    "        covmean = covmean.real\n",
    "\n",
    "    # Calculate score\n",
    "    fid = ssdiff + np.trace(sigma1 + sigma2 - 2.0 * covmean)\n",
    "    return fid"
   ]
  },
  {
   "cell_type": "markdown",
   "metadata": {},
   "source": [
    "------------"
   ]
  },
  {
   "cell_type": "markdown",
   "metadata": {},
   "source": [
    "### The interpretation of Fréchet Inception Distance (FID) scores can be somewhat subjective and highly dependent on the context, such as the complexity of the dataset and the specific application. However, in general, lower FID scores are better, as they indicate closer similarity between the distributions of generated and real images."
   ]
  },
  {
   "cell_type": "markdown",
   "metadata": {},
   "source": [
    "+ + +"
   ]
  },
  {
   "cell_type": "markdown",
   "metadata": {},
   "source": [
    "#### 0 - 50:       Very good\n",
    "#### 50 - 100:     Good enough\n",
    "#### 100 - 150:    Moderate\n",
    "#### Above 150:    Low"
   ]
  },
  {
   "cell_type": "markdown",
   "metadata": {},
   "source": [
    "+ + +"
   ]
  },
  {
   "cell_type": "markdown",
   "metadata": {},
   "source": [
    "### `glioma` Fréchet Inception Distance (FID)"
   ]
  },
  {
   "cell_type": "markdown",
   "metadata": {},
   "source": [
    "Benchmark score (best possible)"
   ]
  },
  {
   "cell_type": "code",
   "execution_count": 15,
   "metadata": {},
   "outputs": [
    {
     "name": "stdout",
     "output_type": "stream",
     "text": [
      "10/10 [==============================] - 7s 539ms/step\n",
      "28/28 [==============================] - 16s 534ms/step\n",
      "FID score: 48.279735641337325\n"
     ]
    }
   ],
   "source": [
    "# Paths to your datasets\n",
    "folder_x = '/root/group2/data_256/Testing/glioma'    # generated\n",
    "folder_y = '/root/group2/data_256/Training/glioma'   # original\n",
    "\n",
    "# Load images\n",
    "images_x = load_and_preprocess_images(folder_x)\n",
    "images_y = load_and_preprocess_images(folder_y)\n",
    "\n",
    "# Calculate FID\n",
    "fid_score = calculate_fid(images_x, images_y)\n",
    "print(f'FID score: {fid_score}')"
   ]
  },
  {
   "cell_type": "markdown",
   "metadata": {},
   "source": [
    "FID of generated images"
   ]
  },
  {
   "cell_type": "code",
   "execution_count": 5,
   "metadata": {},
   "outputs": [
    {
     "name": "stdout",
     "output_type": "stream",
     "text": [
      "19/19 [==============================] - 13s 633ms/step\n",
      "28/28 [==============================] - 19s 621ms/step\n",
      "FID score: 76.1453308143423\n"
     ]
    }
   ],
   "source": [
    "# Paths to your datasets\n",
    "folder_x = '/root/group2/generated_images/glioma_256'   # generated\n",
    "folder_y = '/root/group2/data_256/Training/glioma'      # original\n",
    "\n",
    "# Load images\n",
    "images_x = load_and_preprocess_images(folder_x)\n",
    "images_y = load_and_preprocess_images(folder_y)\n",
    "\n",
    "# Calculate FID\n",
    "fid_score = calculate_fid(images_x, images_y)\n",
    "print(f'FID score: {fid_score}')"
   ]
  },
  {
   "cell_type": "markdown",
   "metadata": {},
   "source": [
    "------------"
   ]
  },
  {
   "cell_type": "markdown",
   "metadata": {},
   "source": [
    "------------"
   ]
  },
  {
   "cell_type": "markdown",
   "metadata": {},
   "source": [
    "### `meningioma` Fréchet Inception Distance (FID)"
   ]
  },
  {
   "cell_type": "markdown",
   "metadata": {},
   "source": [
    "Benchmark score (best possible)"
   ]
  },
  {
   "cell_type": "code",
   "execution_count": 21,
   "metadata": {},
   "outputs": [
    {
     "name": "stdout",
     "output_type": "stream",
     "text": [
      "7/7 [==============================] - 5s 533ms/step\n",
      "26/26 [==============================] - 15s 537ms/step\n",
      "FID score: 58.9323205194959\n"
     ]
    }
   ],
   "source": [
    "# Paths to your datasets\n",
    "folder_x = '/root/group2/data_256/Testing/meningioma'    # generated\n",
    "folder_y = '/root/group2/data_256/Training/meningioma'   # original\n",
    "\n",
    "# Load images\n",
    "images_x = load_and_preprocess_images(folder_x)\n",
    "images_y = load_and_preprocess_images(folder_y)\n",
    "\n",
    "# Calculate FID\n",
    "fid_score = calculate_fid(images_x, images_y)\n",
    "print(f'FID score: {fid_score}')"
   ]
  },
  {
   "cell_type": "markdown",
   "metadata": {},
   "source": [
    "FID of generated images"
   ]
  },
  {
   "cell_type": "code",
   "execution_count": 4,
   "metadata": {},
   "outputs": [
    {
     "name": "stdout",
     "output_type": "stream",
     "text": [
      "19/19 [==============================] - 12s 580ms/step\n",
      "26/26 [==============================] - 16s 580ms/step\n",
      "FID score: 66.41527559062052\n"
     ]
    }
   ],
   "source": [
    "# Paths to your datasets\n",
    "folder_x = '/root/group2/generated_images/meningioma_256'   # generated\n",
    "folder_y = '/root/group2/data_256/Training/meningioma'      # original\n",
    "\n",
    "# Load images\n",
    "images_x = load_and_preprocess_images(folder_x)\n",
    "images_y = load_and_preprocess_images(folder_y)\n",
    "\n",
    "# Calculate FID\n",
    "fid_score = calculate_fid(images_x, images_y)\n",
    "print(f'FID score: {fid_score}')"
   ]
  },
  {
   "cell_type": "markdown",
   "metadata": {},
   "source": [
    "------------"
   ]
  },
  {
   "cell_type": "markdown",
   "metadata": {},
   "source": [
    "------------"
   ]
  },
  {
   "cell_type": "markdown",
   "metadata": {},
   "source": [
    "### `pituitary` Fréchet Inception Distance (FID)"
   ]
  },
  {
   "cell_type": "markdown",
   "metadata": {},
   "source": [
    "Benchmark score (best possible)"
   ]
  },
  {
   "cell_type": "code",
   "execution_count": 16,
   "metadata": {},
   "outputs": [
    {
     "name": "stdout",
     "output_type": "stream",
     "text": [
      "10/10 [==============================] - 7s 561ms/step\n",
      "23/23 [==============================] - 14s 548ms/step\n",
      "FID score: 45.32985957212165\n"
     ]
    }
   ],
   "source": [
    "# Paths to your datasets\n",
    "folder_x = '/root/group2/data_256/Testing/pituitary'    # generated\n",
    "folder_y = '/root/group2/data_256/Training/pituitary'   # original\n",
    "\n",
    "# Load images\n",
    "images_x = load_and_preprocess_images(folder_x)\n",
    "images_y = load_and_preprocess_images(folder_y)\n",
    "\n",
    "# Calculate FID\n",
    "fid_score = calculate_fid(images_x, images_y)\n",
    "print(f'FID score: {fid_score}')"
   ]
  },
  {
   "cell_type": "markdown",
   "metadata": {},
   "source": [
    "FID of generated images"
   ]
  },
  {
   "cell_type": "code",
   "execution_count": 27,
   "metadata": {},
   "outputs": [
    {
     "name": "stdout",
     "output_type": "stream",
     "text": [
      "19/19 [==============================] - 12s 582ms/step\n",
      "23/23 [==============================] - 13s 514ms/step\n",
      "FID score: 74.88099372881845\n"
     ]
    }
   ],
   "source": [
    "# Paths to your datasets\n",
    "folder_x = '/root/group2/generated_images/pituitary_256'     # generated\n",
    "folder_y = '/root/group2/data_256/Training/pituitary'        # original\n",
    "\n",
    "# Load images\n",
    "images_x = load_and_preprocess_images(folder_x)\n",
    "images_y = load_and_preprocess_images(folder_y)\n",
    "\n",
    "# Calculate FID\n",
    "fid_score = calculate_fid(images_x, images_y)\n",
    "print(f'FID score: {fid_score}')"
   ]
  },
  {
   "cell_type": "markdown",
   "metadata": {},
   "source": [
    "------------"
   ]
  },
  {
   "cell_type": "markdown",
   "metadata": {},
   "source": [
    "------------"
   ]
  },
  {
   "cell_type": "markdown",
   "metadata": {},
   "source": [
    "### `notumor` Fréchet Inception Distance (FID)"
   ]
  },
  {
   "cell_type": "markdown",
   "metadata": {},
   "source": [
    "Benchmark score (best possible)"
   ]
  },
  {
   "cell_type": "code",
   "execution_count": 22,
   "metadata": {},
   "outputs": [
    {
     "name": "stdout",
     "output_type": "stream",
     "text": [
      "7/7 [==============================] - 5s 544ms/step\n",
      "26/26 [==============================] - 15s 528ms/step\n",
      "FID score: 41.02234191397914\n"
     ]
    }
   ],
   "source": [
    "# Paths to your datasets\n",
    "folder_x = '/root/group2/data_256/Testing/notumor'    # generated\n",
    "folder_y = '/root/group2/data_256/Training/notumor'   # original\n",
    "\n",
    "# Load images\n",
    "images_x = load_and_preprocess_images(folder_x)\n",
    "images_y = load_and_preprocess_images(folder_y)\n",
    "\n",
    "# Calculate FID\n",
    "fid_score = calculate_fid(images_x, images_y)\n",
    "print(f'FID score: {fid_score}')"
   ]
  },
  {
   "cell_type": "markdown",
   "metadata": {},
   "source": [
    "FID of generated images"
   ]
  },
  {
   "cell_type": "code",
   "execution_count": 8,
   "metadata": {},
   "outputs": [
    {
     "name": "stdout",
     "output_type": "stream",
     "text": [
      "19/19 [==============================] - 12s 582ms/step\n",
      "26/26 [==============================] - 16s 557ms/step\n",
      "FID score: 80.25421561138671\n"
     ]
    }
   ],
   "source": [
    "# Paths to your datasets\n",
    "folder_x = '/root/group2/generated_images/notumor_256'  # generated\n",
    "folder_y = '/root/group2/data_256/Training/notumor'     # original\n",
    "\n",
    "# Load images\n",
    "images_x = load_and_preprocess_images(folder_x)\n",
    "images_y = load_and_preprocess_images(folder_y)\n",
    "\n",
    "# Calculate FID\n",
    "fid_score = calculate_fid(images_x, images_y)\n",
    "print(f'FID score: {fid_score}')"
   ]
  }
 ],
 "metadata": {
  "kernelspec": {
   "display_name": "environment",
   "language": "python",
   "name": "python3"
  },
  "language_info": {
   "codemirror_mode": {
    "name": "ipython",
    "version": 3
   },
   "file_extension": ".py",
   "mimetype": "text/x-python",
   "name": "python",
   "nbconvert_exporter": "python",
   "pygments_lexer": "ipython3",
   "version": "3.8.18"
  }
 },
 "nbformat": 4,
 "nbformat_minor": 2
}
