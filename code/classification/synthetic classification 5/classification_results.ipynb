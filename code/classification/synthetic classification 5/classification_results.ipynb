{
 "cells": [
  {
   "cell_type": "markdown",
   "metadata": {},
   "source": [
    "## Avg. Initial Classifier Performance"
   ]
  },
  {
   "cell_type": "code",
   "execution_count": 1,
   "metadata": {},
   "outputs": [
    {
     "name": "stdout",
     "output_type": "stream",
     "text": [
      "Average classification report (3 different seeds):\n",
      "----------------------------------------------------\n",
      "|            |   precision |   recall |   f1-score |\n",
      "|:-----------|------------:|---------:|-----------:|\n",
      "| glioma     |        0.91 |     0.95 |       0.93 |\n",
      "| meningioma |        0.86 |     0.82 |       0.84 |\n",
      "| notumor    |        0.98 |     0.99 |       0.99 |\n",
      "| pituitary  |        0.97 |     0.95 |       0.96 |\n",
      "----------------------------------------------------\n",
      "\n",
      "\n",
      "-------------------------------------------------------\n",
      "|               |   precision |   recall |   f1-score |\n",
      "|:--------------|------------:|---------:|-----------:|\n",
      "| Macro Average |        0.93 |     0.93 |       0.93 |\n",
      "-------------------------------------------------------\n",
      "\n",
      "Accuracy: 93%\n"
     ]
    }
   ],
   "source": [
    "import pandas as pd\n",
    "from tabulate import tabulate\n",
    "\n",
    "# Averaged Metrics\n",
    "avg_metrics = {\n",
    "    \"precision\": {\"glioma\": (0.92 + 0.92 + 0.89) / 3, \n",
    "                  \"meningioma\": (0.87 + 0.82 + 0.88) / 3, \n",
    "                  \"notumor\": (0.98 + 0.99 + 0.98) / 3, \n",
    "                  \"pituitary\": (0.98 + 0.97 + 0.96) / 3},\n",
    "    \"recall\": {\"glioma\": (0.96 + 0.93 + 0.95) / 3, \n",
    "               \"meningioma\": (0.84 + 0.84 + 0.78) / 3, \n",
    "               \"notumor\": (0.99 + 0.99 + 0.99) / 3, \n",
    "               \"pituitary\": (0.94 + 0.94 + 0.96) / 3},\n",
    "    \"f1-score\": {\"glioma\": (0.94 + 0.92 + 0.92) / 3, \n",
    "                 \"meningioma\": (0.86 + 0.83 + 0.82) / 3, \n",
    "                 \"notumor\": (0.99 + 0.99 + 0.98) / 3, \n",
    "                 \"pituitary\": (0.96 + 0.96 + 0.96) / 3}\n",
    "}\n",
    "\n",
    "accuracy = (0.94 + 0.93 + 0.93) / 3\n",
    "\n",
    "# Creating a DataFrame from the averaged metrics\n",
    "avg_metrics_df = pd.DataFrame(avg_metrics)\n",
    "\n",
    "# Calculating the macro averages\n",
    "macro_precision = avg_metrics_df['precision'].mean()\n",
    "macro_recall = avg_metrics_df['recall'].mean()\n",
    "macro_f1_score = avg_metrics_df['f1-score'].mean()\n",
    "\n",
    "# Creating a DataFrame for macro averages with one row\n",
    "macro_avg_df = pd.DataFrame({\"precision\": [macro_precision], \"recall\": [macro_recall], \"f1-score\": [macro_f1_score]}, index=[\"Macro Average\"])\n",
    "\n",
    "# Formatting the DataFrames\n",
    "formatted_avg_metrics_df = avg_metrics_df.applymap(lambda x: f'{x:.2f}' if isinstance(x, float) else x)\n",
    "formatted_macro_avg_df = macro_avg_df.applymap(lambda x: f'{x:.2f}' if isinstance(x, float) else x)\n",
    "\n",
    "# Printing the table using tabulate\n",
    "classification_report = tabulate(formatted_avg_metrics_df, headers='keys', tablefmt='pipe', numalign=\"right\", floatfmt=\".2f\")\n",
    "macro_average_report = tabulate(formatted_macro_avg_df, headers='keys', tablefmt='pipe', numalign=\"right\")\n",
    "\n",
    "print(\"Average classification report (3 different seeds):\")\n",
    "print(\"----------------------------------------------------\")\n",
    "print(classification_report)\n",
    "print(\"----------------------------------------------------\")\n",
    "print(\"\\n\")\n",
    "print(\"-------------------------------------------------------\")\n",
    "print(macro_average_report)\n",
    "print(\"-------------------------------------------------------\")\n",
    "print(f\"\\nAccuracy: {accuracy:.0%}\")"
   ]
  },
  {
   "cell_type": "markdown",
   "metadata": {},
   "source": [
    "-------"
   ]
  },
  {
   "cell_type": "markdown",
   "metadata": {},
   "source": [
    "## Avg. Fine-Tuned Classifier Performance"
   ]
  },
  {
   "cell_type": "code",
   "execution_count": 2,
   "metadata": {},
   "outputs": [
    {
     "name": "stdout",
     "output_type": "stream",
     "text": [
      "Average classification report (3 different seeds):\n",
      "----------------------------------------------------\n",
      "|            |   precision |   recall |   f1-score |\n",
      "|:-----------|------------:|---------:|-----------:|\n",
      "| glioma     |        0.95 |     0.90 |       0.92 |\n",
      "| meningioma |        0.84 |     0.84 |       0.83 |\n",
      "| notumor    |        0.98 |     0.99 |       0.98 |\n",
      "| pituitary  |        0.94 |     0.97 |       0.96 |\n",
      "----------------------------------------------------\n",
      "\n",
      "\n",
      "-------------------------------------------------------\n",
      "|               |   precision |   recall |   f1-score |\n",
      "|:--------------|------------:|---------:|-----------:|\n",
      "| Macro Average |        0.93 |     0.93 |       0.93 |\n",
      "-------------------------------------------------------\n",
      "\n",
      "Accuracy: 93%\n"
     ]
    }
   ],
   "source": [
    "import pandas as pd\n",
    "from tabulate import tabulate\n",
    "\n",
    "# Averaged Metrics\n",
    "avg_metrics = {\n",
    "    \"precision\": {\"glioma\": (0.98 + 0.97 + 0.89) / 3, \n",
    "                  \"meningioma\": (0.77 + 0.87 + 0.88) / 3, \n",
    "                  \"notumor\": (0.98 + 0.99 + 0.98) / 3, \n",
    "                  \"pituitary\": (0.94 + 0.93 + 0.96) / 3},\n",
    "    \"recall\": {\"glioma\": (0.84 + 0.92 + 0.95) / 3, \n",
    "               \"meningioma\": (0.89 + 0.86 + 0.78) / 3, \n",
    "               \"notumor\": (0.98 + 0.99 + 0.99) / 3, \n",
    "               \"pituitary\": (0.97 + 0.98 + 0.96) / 3},\n",
    "    \"f1-score\": {\"glioma\": (0.91 + 0.94 + 0.92) / 3, \n",
    "                 \"meningioma\": (0.82 + 0.86 + 0.82) / 3, \n",
    "                 \"notumor\": (0.98 + 0.99 + 0.98) / 3, \n",
    "                 \"pituitary\": (0.96 + 0.96 + 0.96) / 3}\n",
    "}\n",
    "\n",
    "accuracy = (0.92 + 0.94 + 0.93) / 3\n",
    "\n",
    "# Creating a DataFrame from the averaged metrics\n",
    "avg_metrics_df = pd.DataFrame(avg_metrics)\n",
    "\n",
    "# Calculating the macro averages\n",
    "macro_precision = avg_metrics_df['precision'].mean()\n",
    "macro_recall = avg_metrics_df['recall'].mean()\n",
    "macro_f1_score = avg_metrics_df['f1-score'].mean()\n",
    "\n",
    "# Creating a DataFrame for macro averages with one row\n",
    "macro_avg_df = pd.DataFrame({\"precision\": [macro_precision], \"recall\": [macro_recall], \"f1-score\": [macro_f1_score]}, index=[\"Macro Average\"])\n",
    "\n",
    "# Formatting the DataFrames\n",
    "formatted_avg_metrics_df = avg_metrics_df.applymap(lambda x: f'{x:.2f}' if isinstance(x, float) else x)\n",
    "formatted_macro_avg_df = macro_avg_df.applymap(lambda x: f'{x:.2f}' if isinstance(x, float) else x)\n",
    "\n",
    "# Printing the table using tabulate\n",
    "classification_report = tabulate(formatted_avg_metrics_df, headers='keys', tablefmt='pipe', numalign=\"right\", floatfmt=\".2f\")\n",
    "macro_average_report = tabulate(formatted_macro_avg_df, headers='keys', tablefmt='pipe', numalign=\"right\")\n",
    "\n",
    "print(\"Average classification report (3 different seeds):\")\n",
    "print(\"----------------------------------------------------\")\n",
    "print(classification_report)\n",
    "print(\"----------------------------------------------------\")\n",
    "print(\"\\n\")\n",
    "print(\"-------------------------------------------------------\")\n",
    "print(macro_average_report)\n",
    "print(\"-------------------------------------------------------\")\n",
    "print(f\"\\nAccuracy: {accuracy:.0%}\")"
   ]
  }
 ],
 "metadata": {
  "kernelspec": {
   "display_name": "Python 3",
   "language": "python",
   "name": "python3"
  },
  "language_info": {
   "codemirror_mode": {
    "name": "ipython",
    "version": 3
   },
   "file_extension": ".py",
   "mimetype": "text/x-python",
   "name": "python",
   "nbconvert_exporter": "python",
   "pygments_lexer": "ipython3",
   "version": "3.9.13"
  }
 },
 "nbformat": 4,
 "nbformat_minor": 2
}
