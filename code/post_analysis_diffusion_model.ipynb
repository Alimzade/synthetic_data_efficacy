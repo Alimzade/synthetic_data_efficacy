{
 "cells": [
  {
   "cell_type": "code",
   "execution_count": 27,
   "metadata": {},
   "outputs": [],
   "source": [
    "import pandas as pd\n",
    "import matplotlib.pyplot as plt\n",
    "import random\n",
    "import cv2\n",
    "import seaborn as sns\n",
    "import os\n",
    "import numpy as np\n",
    "from scipy.linalg import sqrtm\n",
    "import tensorflow as tf\n",
    "from tensorflow.keras.applications.inception_v3 import InceptionV3, preprocess_input\n",
    "from tensorflow.keras.preprocessing import image\n",
    "from scipy.stats import entropy\n",
    "from torch_fidelity import calculate_metrics"
   ]
  },
  {
   "cell_type": "code",
   "execution_count": 4,
   "metadata": {},
   "outputs": [],
   "source": [
    "output_folder = \"../output/diffusion_model/\"\n",
    "pdf_folder = \"pdf\"\n",
    "csv_folder = \"csv\""
   ]
  },
  {
   "cell_type": "code",
   "execution_count": 5,
   "metadata": {},
   "outputs": [
    {
     "data": {
      "text/html": [
       "<div>\n",
       "<style scoped>\n",
       "    .dataframe tbody tr th:only-of-type {\n",
       "        vertical-align: middle;\n",
       "    }\n",
       "\n",
       "    .dataframe tbody tr th {\n",
       "        vertical-align: top;\n",
       "    }\n",
       "\n",
       "    .dataframe thead th {\n",
       "        text-align: right;\n",
       "    }\n",
       "</style>\n",
       "<table border=\"1\" class=\"dataframe\">\n",
       "  <thead>\n",
       "    <tr style=\"text-align: right;\">\n",
       "      <th></th>\n",
       "      <th>Image ID</th>\n",
       "      <th>Label</th>\n",
       "      <th>Path</th>\n",
       "    </tr>\n",
       "  </thead>\n",
       "  <tbody>\n",
       "    <tr>\n",
       "      <th>0</th>\n",
       "      <td>pituitary_472</td>\n",
       "      <td>pituitary</td>\n",
       "      <td>diffusion models/generated_images/pituitary_25...</td>\n",
       "    </tr>\n",
       "    <tr>\n",
       "      <th>1</th>\n",
       "      <td>pituitary_501</td>\n",
       "      <td>pituitary</td>\n",
       "      <td>diffusion models/generated_images/pituitary_25...</td>\n",
       "    </tr>\n",
       "    <tr>\n",
       "      <th>2</th>\n",
       "      <td>pituitary_287</td>\n",
       "      <td>pituitary</td>\n",
       "      <td>diffusion models/generated_images/pituitary_25...</td>\n",
       "    </tr>\n",
       "    <tr>\n",
       "      <th>3</th>\n",
       "      <td>pituitary_485</td>\n",
       "      <td>pituitary</td>\n",
       "      <td>diffusion models/generated_images/pituitary_25...</td>\n",
       "    </tr>\n",
       "    <tr>\n",
       "      <th>4</th>\n",
       "      <td>pituitary_365</td>\n",
       "      <td>pituitary</td>\n",
       "      <td>diffusion models/generated_images/pituitary_25...</td>\n",
       "    </tr>\n",
       "    <tr>\n",
       "      <th>...</th>\n",
       "      <td>...</td>\n",
       "      <td>...</td>\n",
       "      <td>...</td>\n",
       "    </tr>\n",
       "    <tr>\n",
       "      <th>2395</th>\n",
       "      <td>meningioma_164</td>\n",
       "      <td>meningioma</td>\n",
       "      <td>diffusion models/generated_images/meningioma_2...</td>\n",
       "    </tr>\n",
       "    <tr>\n",
       "      <th>2396</th>\n",
       "      <td>meningioma_85</td>\n",
       "      <td>meningioma</td>\n",
       "      <td>diffusion models/generated_images/meningioma_2...</td>\n",
       "    </tr>\n",
       "    <tr>\n",
       "      <th>2397</th>\n",
       "      <td>meningioma_145</td>\n",
       "      <td>meningioma</td>\n",
       "      <td>diffusion models/generated_images/meningioma_2...</td>\n",
       "    </tr>\n",
       "    <tr>\n",
       "      <th>2398</th>\n",
       "      <td>meningioma_220</td>\n",
       "      <td>meningioma</td>\n",
       "      <td>diffusion models/generated_images/meningioma_2...</td>\n",
       "    </tr>\n",
       "    <tr>\n",
       "      <th>2399</th>\n",
       "      <td>meningioma_464</td>\n",
       "      <td>meningioma</td>\n",
       "      <td>diffusion models/generated_images/meningioma_2...</td>\n",
       "    </tr>\n",
       "  </tbody>\n",
       "</table>\n",
       "<p>2400 rows × 3 columns</p>\n",
       "</div>"
      ],
      "text/plain": [
       "            Image ID       Label  \\\n",
       "0      pituitary_472   pituitary   \n",
       "1      pituitary_501   pituitary   \n",
       "2      pituitary_287   pituitary   \n",
       "3      pituitary_485   pituitary   \n",
       "4      pituitary_365   pituitary   \n",
       "...              ...         ...   \n",
       "2395  meningioma_164  meningioma   \n",
       "2396   meningioma_85  meningioma   \n",
       "2397  meningioma_145  meningioma   \n",
       "2398  meningioma_220  meningioma   \n",
       "2399  meningioma_464  meningioma   \n",
       "\n",
       "                                                   Path  \n",
       "0     diffusion models/generated_images/pituitary_25...  \n",
       "1     diffusion models/generated_images/pituitary_25...  \n",
       "2     diffusion models/generated_images/pituitary_25...  \n",
       "3     diffusion models/generated_images/pituitary_25...  \n",
       "4     diffusion models/generated_images/pituitary_25...  \n",
       "...                                                 ...  \n",
       "2395  diffusion models/generated_images/meningioma_2...  \n",
       "2396  diffusion models/generated_images/meningioma_2...  \n",
       "2397  diffusion models/generated_images/meningioma_2...  \n",
       "2398  diffusion models/generated_images/meningioma_2...  \n",
       "2399  diffusion models/generated_images/meningioma_2...  \n",
       "\n",
       "[2400 rows x 3 columns]"
      ]
     },
     "execution_count": 5,
     "metadata": {},
     "output_type": "execute_result"
    }
   ],
   "source": [
    "generated_images_folder = \"diffusion models/generated_images\"\n",
    "generated_images_files_df = pd.read_csv(generated_images_folder + \"/generated.csv\")\n",
    "generated_images_files_df"
   ]
  },
  {
   "cell_type": "code",
   "execution_count": 13,
   "metadata": {},
   "outputs": [
    {
     "data": {
      "text/plain": [
       "['pituitary', 'glioma', 'notumor', 'meningioma']"
      ]
     },
     "execution_count": 13,
     "metadata": {},
     "output_type": "execute_result"
    }
   ],
   "source": [
    "labels = list(generated_images_files_df.Label.unique())\n",
    "labels"
   ]
  },
  {
   "cell_type": "markdown",
   "metadata": {},
   "source": [
    "### Histogram of 100 random samples per class"
   ]
  },
  {
   "cell_type": "code",
   "execution_count": 27,
   "metadata": {},
   "outputs": [],
   "source": [
    "def get_histogram(tumor, axes, file_names):\n",
    "    print\n",
    "    if len(file_names) > 0:\n",
    "        sample_size = len(file_names) if len(file_names) < 100 else 100\n",
    "        plt.yscale('log')\n",
    "        for file in random.sample(file_names, sample_size):\n",
    "            image = cv2.imread(file)\n",
    "            gray = cv2.cvtColor(image, cv2.COLOR_BGR2GRAY)\n",
    "            sns.histplot(ax=axes, data=pd.DataFrame(gray.ravel()), x=0).set(title=tumor, xlabel =\"Pixel value\")\n",
    "    else:\n",
    "        axes.set_visible(False)"
   ]
  },
  {
   "cell_type": "code",
   "execution_count": 33,
   "metadata": {},
   "outputs": [
    {
     "data": {
      "image/png": "[encoded data removed]",
      "text/plain": [
       "<Figure size 1100x800 with 4 Axes>"
      ]
     },
     "metadata": {},
     "output_type": "display_data"
    }
   ],
   "source": [
    "plt.close()\n",
    "fig, axes = plt.subplots(nrows=2, ncols=2, figsize=(11, 8), sharey=True, sharex=True)\n",
    "\n",
    "label_counter = 0\n",
    "row_counter = 0\n",
    "for tumor in labels:\n",
    "    get_histogram(tumor, axes[row_counter, label_counter], list(generated_images_files_df[generated_images_files_df[\"Label\"] == tumor][\"Path\"]))\n",
    "    if label_counter == 1:\n",
    "        row_counter = 1\n",
    "        label_counter = 0\n",
    "    else:\n",
    "        label_counter += 1\n",
    "plt.tight_layout()\n",
    "plt.savefig(output_folder + pdf_folder + \"/generated_images_histogram_tumor_type.pdf\")\n",
    "plt.show()"
   ]
  },
  {
   "cell_type": "markdown",
   "metadata": {},
   "source": [
    "### Fréchet Inception Distance (FID)"
   ]
  },
  {
   "cell_type": "code",
   "execution_count": null,
   "metadata": {},
   "outputs": [],
   "source": [
    "def load_and_preprocess_images(img_folder, target_size=(299, 299)):\n",
    "    model = InceptionV3(include_top=False, pooling='avg', input_shape=(299, 299, 3))\n",
    "    images = []\n",
    "    \n",
    "    for img_file in os.listdir(img_folder):\n",
    "        if img_file.lower().endswith(('.png', '.jpg', '.jpeg')):\n",
    "            img_path = os.path.join(img_folder, img_file)\n",
    "            img = image.load_img(img_path, target_size=target_size)\n",
    "            img_array = image.img_to_array(img)\n",
    "            img_array = np.expand_dims(img_array, axis=0)\n",
    "            img_array = preprocess_input(img_array)\n",
    "            images.append(img_array)\n",
    "\n",
    "    images = np.vstack(images)\n",
    "    features = model.predict(images)\n",
    "    return features"
   ]
  },
  {
   "cell_type": "code",
   "execution_count": null,
   "metadata": {},
   "outputs": [],
   "source": [
    "def calculate_fid(act1, act2):\n",
    "    # Calculate mean and covariance statistics\n",
    "    mu1, sigma1 = act1.mean(axis=0), np.cov(act1, rowvar=False)\n",
    "    mu2, sigma2 = act2.mean(axis=0), np.cov(act2, rowvar=False)\n",
    "\n",
    "    # Calculate sum squared difference between means\n",
    "    ssdiff = np.sum((mu1 - mu2)**2.0)\n",
    "\n",
    "    # Calculate sqrt of product between covariances\n",
    "    covmean = sqrtm(sigma1.dot(sigma2))\n",
    "\n",
    "    # Check and correct imaginary numbers from sqrt\n",
    "    if np.iscomplexobj(covmean):\n",
    "        covmean = covmean.real\n",
    "\n",
    "    # Calculate score\n",
    "    fid = ssdiff + np.trace(sigma1 + sigma2 - 2.0 * covmean)\n",
    "    return fid"
   ]
  },
  {
   "cell_type": "markdown",
   "metadata": {},
   "source": [
    "##### The interpretation of Fréchet Inception Distance (FID) scores can be somewhat subjective and highly dependent on the context, such as the complexity of the dataset and the specific application. However, in general, lower FID scores are better, as they indicate closer similarity between the distributions of generated and real images."
   ]
  },
  {
   "cell_type": "markdown",
   "metadata": {},
   "source": [
    "0 - 50 (Very good); 50 - 100 (Good enough), 100 - 150: (Moderate), Above 150: (Low)"
   ]
  },
  {
   "cell_type": "code",
   "execution_count": 23,
   "metadata": {},
   "outputs": [
    {
     "data": {
      "text/html": [
       "<div>\n",
       "<style scoped>\n",
       "    .dataframe tbody tr th:only-of-type {\n",
       "        vertical-align: middle;\n",
       "    }\n",
       "\n",
       "    .dataframe tbody tr th {\n",
       "        vertical-align: top;\n",
       "    }\n",
       "\n",
       "    .dataframe thead th {\n",
       "        text-align: right;\n",
       "    }\n",
       "</style>\n",
       "<table border=\"1\" class=\"dataframe\">\n",
       "  <thead>\n",
       "    <tr style=\"text-align: right;\">\n",
       "      <th></th>\n",
       "      <th>pituitary</th>\n",
       "      <th>glioma</th>\n",
       "      <th>notumor</th>\n",
       "      <th>meningioma</th>\n",
       "    </tr>\n",
       "  </thead>\n",
       "  <tbody>\n",
       "    <tr>\n",
       "      <th>real</th>\n",
       "      <td>45.33</td>\n",
       "      <td>48.28</td>\n",
       "      <td>41.02</td>\n",
       "      <td>58.93</td>\n",
       "    </tr>\n",
       "    <tr>\n",
       "      <th>generated</th>\n",
       "      <td>74.88</td>\n",
       "      <td>76.15</td>\n",
       "      <td>80.25</td>\n",
       "      <td>66.42</td>\n",
       "    </tr>\n",
       "  </tbody>\n",
       "</table>\n",
       "</div>"
      ],
      "text/plain": [
       "           pituitary  glioma  notumor  meningioma\n",
       "real           45.33   48.28    41.02       58.93\n",
       "generated      74.88   76.15    80.25       66.42"
      ]
     },
     "execution_count": 23,
     "metadata": {},
     "output_type": "execute_result"
    }
   ],
   "source": [
    "fid_df = pd.DataFrame(index=[\"real\", \"generated\"], columns=labels)"
   ]
  },
  {
   "cell_type": "markdown",
   "metadata": {},
   "source": [
    "### `glioma` Fréchet Inception Distance (FID)"
   ]
  },
  {
   "cell_type": "markdown",
   "metadata": {},
   "source": [
    "Benchmark score (best possible)"
   ]
  },
  {
   "cell_type": "code",
   "execution_count": null,
   "metadata": {},
   "outputs": [],
   "source": [
    "# Paths to your datasets\n",
    "folder_x = '/root/group2/data_256/Testing/glioma'    # generated\n",
    "folder_y = '/root/group2/data_256/Training/glioma'   # original\n",
    "\n",
    "# Load images\n",
    "images_x = load_and_preprocess_images(folder_x)\n",
    "images_y = load_and_preprocess_images(folder_y)\n",
    "\n",
    "# Calculate FID\n",
    "fid_score = calculate_fid(images_x, images_y)\n",
    "fid_df.loc[\"real\", \"glioma\"] = fid_score\n",
    "print(f'FID score: {fid_score}')"
   ]
  },
  {
   "cell_type": "markdown",
   "metadata": {},
   "source": [
    "FID of generated images"
   ]
  },
  {
   "cell_type": "code",
   "execution_count": null,
   "metadata": {},
   "outputs": [],
   "source": [
    "# Paths to your datasets\n",
    "folder_x = '/root/group2/generated_images/glioma_256'   # generated\n",
    "folder_y = '/root/group2/data_256/Training/glioma'      # original\n",
    "\n",
    "# Load images\n",
    "images_x = load_and_preprocess_images(folder_x)\n",
    "images_y = load_and_preprocess_images(folder_y)\n",
    "\n",
    "# Calculate FID\n",
    "fid_score = calculate_fid(images_x, images_y)\n",
    "fid_df.loc[\"generated\", \"glioma\"] = fid_score\n",
    "print(f'FID score: {fid_score}')"
   ]
  },
  {
   "cell_type": "markdown",
   "metadata": {},
   "source": [
    "### `meningioma` Fréchet Inception Distance (FID)"
   ]
  },
  {
   "cell_type": "markdown",
   "metadata": {},
   "source": [
    "Benchmark score (best possible)"
   ]
  },
  {
   "cell_type": "code",
   "execution_count": null,
   "metadata": {},
   "outputs": [],
   "source": [
    "# Paths to your datasets\n",
    "folder_x = '/root/group2/data_256/Testing/meningioma'    # generated\n",
    "folder_y = '/root/group2/data_256/Training/meningioma'   # original\n",
    "\n",
    "# Load images\n",
    "images_x = load_and_preprocess_images(folder_x)\n",
    "images_y = load_and_preprocess_images(folder_y)\n",
    "\n",
    "# Calculate FID\n",
    "fid_score = calculate_fid(images_x, images_y)\n",
    "fid_df.loc[\"real\", \"meningioma\"] = fid_score\n",
    "print(f'FID score: {fid_score}')"
   ]
  },
  {
   "cell_type": "markdown",
   "metadata": {},
   "source": [
    "FID of generated images"
   ]
  },
  {
   "cell_type": "code",
   "execution_count": null,
   "metadata": {},
   "outputs": [],
   "source": [
    "# Paths to your datasets\n",
    "folder_x = '/root/group2/generated_images/meningioma_256'   # generated\n",
    "folder_y = '/root/group2/data_256/Training/meningioma'      # original\n",
    "\n",
    "# Load images\n",
    "images_x = load_and_preprocess_images(folder_x)\n",
    "images_y = load_and_preprocess_images(folder_y)\n",
    "\n",
    "# Calculate FID\n",
    "fid_score = calculate_fid(images_x, images_y)\n",
    "fid_df.loc[\"generated\", \"meningioma\"] = fid_score\n",
    "print(f'FID score: {fid_score}')"
   ]
  },
  {
   "cell_type": "markdown",
   "metadata": {},
   "source": [
    "### `pituitary` Fréchet Inception Distance (FID)"
   ]
  },
  {
   "cell_type": "markdown",
   "metadata": {},
   "source": [
    "Benchmark score (best possible)"
   ]
  },
  {
   "cell_type": "code",
   "execution_count": null,
   "metadata": {},
   "outputs": [],
   "source": [
    "# Paths to your datasets\n",
    "folder_x = '/root/group2/data_256/Testing/pituitary'    # generated\n",
    "folder_y = '/root/group2/data_256/Training/pituitary'   # original\n",
    "\n",
    "# Load images\n",
    "images_x = load_and_preprocess_images(folder_x)\n",
    "images_y = load_and_preprocess_images(folder_y)\n",
    "\n",
    "# Calculate FID\n",
    "fid_score = calculate_fid(images_x, images_y)\n",
    "fid_df.loc[\"real\", \"pituitary\"] = fid_score\n",
    "print(f'FID score: {fid_score}')"
   ]
  },
  {
   "cell_type": "markdown",
   "metadata": {},
   "source": [
    "FID of generated images"
   ]
  },
  {
   "cell_type": "code",
   "execution_count": null,
   "metadata": {},
   "outputs": [],
   "source": [
    "# Paths to your datasets\n",
    "folder_x = '/root/group2/generated_images/pituitary_256'     # generated\n",
    "folder_y = '/root/group2/data_256/Training/pituitary'        # original\n",
    "\n",
    "# Load images\n",
    "images_x = load_and_preprocess_images(folder_x)\n",
    "images_y = load_and_preprocess_images(folder_y)\n",
    "\n",
    "# Calculate FID\n",
    "fid_score = calculate_fid(images_x, images_y)\n",
    "fid_df.loc[\"generated\", \"pituitary\"] = fid_score\n",
    "print(f'FID score: {fid_score}')"
   ]
  },
  {
   "cell_type": "markdown",
   "metadata": {},
   "source": [
    "### `notumor` Fréchet Inception Distance (FID)"
   ]
  },
  {
   "cell_type": "markdown",
   "metadata": {},
   "source": [
    "Benchmark score (best possible)"
   ]
  },
  {
   "cell_type": "code",
   "execution_count": null,
   "metadata": {},
   "outputs": [],
   "source": [
    "# Paths to your datasets\n",
    "folder_x = '/root/group2/data_256/Testing/notumor'    # generated\n",
    "folder_y = '/root/group2/data_256/Training/notumor'   # original\n",
    "\n",
    "# Load images\n",
    "images_x = load_and_preprocess_images(folder_x)\n",
    "images_y = load_and_preprocess_images(folder_y)\n",
    "\n",
    "# Calculate FID\n",
    "fid_score = calculate_fid(images_x, images_y)\n",
    "fid_df.loc[\"real\", \"notumor\"] = fid_score\n",
    "print(f'FID score: {fid_score}')"
   ]
  },
  {
   "cell_type": "markdown",
   "metadata": {},
   "source": [
    "FID of generated images"
   ]
  },
  {
   "cell_type": "code",
   "execution_count": null,
   "metadata": {},
   "outputs": [],
   "source": [
    "# Paths to your datasets\n",
    "folder_x = '/root/group2/generated_images/notumor_256'  # generated\n",
    "folder_y = '/root/group2/data_256/Training/notumor'     # original\n",
    "\n",
    "# Load images\n",
    "images_x = load_and_preprocess_images(folder_x)\n",
    "images_y = load_and_preprocess_images(folder_y)\n",
    "\n",
    "# Calculate FID\n",
    "fid_score = calculate_fid(images_x, images_y)\n",
    "fid_df.loc[\"generated\", \"notumor\"] = fid_score\n",
    "print(f'FID score: {fid_score}')"
   ]
  },
  {
   "cell_type": "code",
   "execution_count": 26,
   "metadata": {},
   "outputs": [
    {
     "data": {
      "text/html": [
       "<div>\n",
       "<style scoped>\n",
       "    .dataframe tbody tr th:only-of-type {\n",
       "        vertical-align: middle;\n",
       "    }\n",
       "\n",
       "    .dataframe tbody tr th {\n",
       "        vertical-align: top;\n",
       "    }\n",
       "\n",
       "    .dataframe thead th {\n",
       "        text-align: right;\n",
       "    }\n",
       "</style>\n",
       "<table border=\"1\" class=\"dataframe\">\n",
       "  <thead>\n",
       "    <tr style=\"text-align: right;\">\n",
       "      <th></th>\n",
       "      <th>pituitary</th>\n",
       "      <th>glioma</th>\n",
       "      <th>notumor</th>\n",
       "      <th>meningioma</th>\n",
       "    </tr>\n",
       "  </thead>\n",
       "  <tbody>\n",
       "    <tr>\n",
       "      <th>real</th>\n",
       "      <td>45.33</td>\n",
       "      <td>48.28</td>\n",
       "      <td>41.02</td>\n",
       "      <td>58.93</td>\n",
       "    </tr>\n",
       "    <tr>\n",
       "      <th>generated</th>\n",
       "      <td>74.88</td>\n",
       "      <td>76.15</td>\n",
       "      <td>80.25</td>\n",
       "      <td>66.42</td>\n",
       "    </tr>\n",
       "  </tbody>\n",
       "</table>\n",
       "</div>"
      ],
      "text/plain": [
       "           pituitary  glioma  notumor  meningioma\n",
       "real           45.33   48.28    41.02       58.93\n",
       "generated      74.88   76.15    80.25       66.42"
      ]
     },
     "execution_count": 26,
     "metadata": {},
     "output_type": "execute_result"
    }
   ],
   "source": [
    "fid_df = fid_df.astype(float).round(2)\n",
    "fid_df.to_csv(output_folder + csv_folder + \"/fid.csv\")\n",
    "fid_df"
   ]
  },
  {
   "cell_type": "markdown",
   "metadata": {},
   "source": [
    "### Inception Score"
   ]
  },
  {
   "cell_type": "code",
   "execution_count": null,
   "metadata": {},
   "outputs": [],
   "source": [
    "def load_images_from_folder(folder, target_size=(299, 299)):\n",
    "    images = []\n",
    "    for img_file in os.listdir(folder):\n",
    "        if img_file.lower().endswith(('.png', '.jpg', '.jpeg')):\n",
    "            img_path = os.path.join(folder, img_file)\n",
    "            img = image.load_img(img_path, target_size=target_size)\n",
    "            img_array = image.img_to_array(img)\n",
    "            img_array = np.expand_dims(img_array, axis=0)\n",
    "            img_array = preprocess_input(img_array)\n",
    "            images.append(img_array)\n",
    "    images = np.vstack(images)\n",
    "    return images"
   ]
  },
  {
   "cell_type": "code",
   "execution_count": null,
   "metadata": {},
   "outputs": [],
   "source": [
    "def calculate_inception_score(images, inception_model):\n",
    "    preds = inception_model.predict(images)\n",
    "    marginals = np.mean(preds, axis=0)\n",
    "    conditional_entropy = np.mean([entropy(preds[i, :], base=2) for i in range(preds.shape[0])])\n",
    "    marginal_entropy = entropy(marginals, base=2)\n",
    "    return np.exp(marginal_entropy - conditional_entropy)"
   ]
  },
  {
   "cell_type": "code",
   "execution_count": null,
   "metadata": {},
   "outputs": [],
   "source": [
    "# Load the pretrained Inception model\n",
    "inception_model = InceptionV3(include_top=True, weights='imagenet')"
   ]
  },
  {
   "cell_type": "code",
   "execution_count": 29,
   "metadata": {},
   "outputs": [],
   "source": [
    "is_df = pd.DataFrame(index=[\"real\", \"generated\"], columns=labels)"
   ]
  },
  {
   "cell_type": "markdown",
   "metadata": {},
   "source": [
    "### `glioma` Inception Score (IS):  real vs generated "
   ]
  },
  {
   "cell_type": "markdown",
   "metadata": {},
   "source": [
    "real images"
   ]
  },
  {
   "cell_type": "code",
   "execution_count": null,
   "metadata": {},
   "outputs": [],
   "source": [
    "# Load and preprocess images\n",
    "folder_x = '/root/group2/data_256/Training/glioma'\n",
    "images_x = load_images_from_folder(folder_x)\n",
    "\n",
    "# Calculate Inception Scores\n",
    "is_x = calculate_inception_score(images_x, inception_model)\n",
    "is_df.loc[\"real\", \"glioma\"] = is_x\n",
    "print(f'Inception score (IS) for real glioma images: {is_x}')"
   ]
  },
  {
   "cell_type": "markdown",
   "metadata": {},
   "source": [
    "generated images"
   ]
  },
  {
   "cell_type": "code",
   "execution_count": null,
   "metadata": {},
   "outputs": [],
   "source": [
    "# Load and preprocess images\n",
    "folder_x = '/root/group2/generated_images/glioma_256'\n",
    "images_x = load_images_from_folder(folder_x)\n",
    "\n",
    "# Calculate Inception Scores\n",
    "is_x = calculate_inception_score(images_x, inception_model)\n",
    "is_df.loc[\"generated\", \"glioma\"] = is_x\n",
    "print(f'Inception score (IS) for generated glioma images: {is_x}')"
   ]
  },
  {
   "cell_type": "markdown",
   "metadata": {},
   "source": [
    "### `meningioma` Inception Score (IS):  real vs generated "
   ]
  },
  {
   "cell_type": "markdown",
   "metadata": {},
   "source": [
    "real images"
   ]
  },
  {
   "cell_type": "code",
   "execution_count": null,
   "metadata": {},
   "outputs": [],
   "source": [
    "# Load and preprocess images\n",
    "folder_x = '/root/group2/data_256/Training/meningioma'\n",
    "images_x = load_images_from_folder(folder_x)\n",
    "\n",
    "# Calculate Inception Scores\n",
    "is_x = calculate_inception_score(images_x, inception_model)\n",
    "is_df.loc[\"real\", \"meningioma\"] = is_x\n",
    "print(f'Inception score (IS) for real meningioma images: {is_x}')"
   ]
  },
  {
   "cell_type": "markdown",
   "metadata": {},
   "source": [
    "generated images"
   ]
  },
  {
   "cell_type": "code",
   "execution_count": null,
   "metadata": {},
   "outputs": [],
   "source": [
    "# Load and preprocess images\n",
    "folder_x = '/root/group2/generated_images/meningioma_256'\n",
    "images_x = load_images_from_folder(folder_x)\n",
    "\n",
    "# Calculate Inception Scores\n",
    "is_x = calculate_inception_score(images_x, inception_model)\n",
    "is_df.loc[\"generated\", \"meningioma\"] = is_x\n",
    "print(f'Inception score (IS) for generated meningioma images: {is_x}')"
   ]
  },
  {
   "cell_type": "markdown",
   "metadata": {},
   "source": [
    "### `pituitary` Inception Score (IS):  real vs generated "
   ]
  },
  {
   "cell_type": "markdown",
   "metadata": {},
   "source": [
    "real images"
   ]
  },
  {
   "cell_type": "code",
   "execution_count": null,
   "metadata": {},
   "outputs": [],
   "source": [
    "# Load and preprocess images\n",
    "folder_x = '/root/group2/data_256/Training/pituitary'\n",
    "images_x = load_images_from_folder(folder_x)\n",
    "\n",
    "# Calculate Inception Scores\n",
    "is_x = calculate_inception_score(images_x, inception_model)\n",
    "is_df.loc[\"real\", \"pituitary\"] = is_x\n",
    "print(f'Inception score (IS) for real pituitary images: {is_x}')"
   ]
  },
  {
   "cell_type": "markdown",
   "metadata": {},
   "source": [
    "generated images"
   ]
  },
  {
   "cell_type": "code",
   "execution_count": null,
   "metadata": {},
   "outputs": [],
   "source": [
    "# Load and preprocess images\n",
    "folder_x = '/root/group2/generated_images/pituitary_256'\n",
    "images_x = load_images_from_folder(folder_x)\n",
    "\n",
    "# Calculate Inception Scores\n",
    "is_x = calculate_inception_score(images_x, inception_model)\n",
    "is_df.loc[\"generated\", \"pituitary\"] = is_x\n",
    "print(f'Inception score (IS) for generated pituitary images: {is_x}')"
   ]
  },
  {
   "cell_type": "markdown",
   "metadata": {},
   "source": [
    "### `notumor` Inception Score (IS):  real vs generated "
   ]
  },
  {
   "cell_type": "markdown",
   "metadata": {},
   "source": [
    "real images"
   ]
  },
  {
   "cell_type": "code",
   "execution_count": null,
   "metadata": {},
   "outputs": [],
   "source": [
    "# Load and preprocess images\n",
    "folder_x = '/root/group2/data_256/Training/notumor'\n",
    "images_x = load_images_from_folder(folder_x)\n",
    "\n",
    "# Calculate Inception Scores\n",
    "is_x = calculate_inception_score(images_x, inception_model)\n",
    "is_df.loc[\"real\", \"notumor\"] = is_x\n",
    "print(f'Inception score (IS) for real notumor images: {is_x}')"
   ]
  },
  {
   "cell_type": "markdown",
   "metadata": {},
   "source": [
    "generated images"
   ]
  },
  {
   "cell_type": "code",
   "execution_count": null,
   "metadata": {},
   "outputs": [],
   "source": [
    "# Load and preprocess images\n",
    "folder_x = '/root/group2/generated_images/notumor_256'\n",
    "images_x = load_images_from_folder(folder_x)\n",
    "\n",
    "# Calculate Inception Scores\n",
    "is_x = calculate_inception_score(images_x, inception_model)\n",
    "is_df.loc[\"generated\", \"notumor\"] = is_x\n",
    "print(f'Inception score (IS) for generated notumor images: {is_x}')"
   ]
  },
  {
   "cell_type": "code",
   "execution_count": 30,
   "metadata": {},
   "outputs": [
    {
     "data": {
      "text/html": [
       "<div>\n",
       "<style scoped>\n",
       "    .dataframe tbody tr th:only-of-type {\n",
       "        vertical-align: middle;\n",
       "    }\n",
       "\n",
       "    .dataframe tbody tr th {\n",
       "        vertical-align: top;\n",
       "    }\n",
       "\n",
       "    .dataframe thead th {\n",
       "        text-align: right;\n",
       "    }\n",
       "</style>\n",
       "<table border=\"1\" class=\"dataframe\">\n",
       "  <thead>\n",
       "    <tr style=\"text-align: right;\">\n",
       "      <th></th>\n",
       "      <th>pituitary</th>\n",
       "      <th>glioma</th>\n",
       "      <th>notumor</th>\n",
       "      <th>meningioma</th>\n",
       "    </tr>\n",
       "  </thead>\n",
       "  <tbody>\n",
       "    <tr>\n",
       "      <th>real</th>\n",
       "      <td>3.07</td>\n",
       "      <td>4.38</td>\n",
       "      <td>3.43</td>\n",
       "      <td>4.24</td>\n",
       "    </tr>\n",
       "    <tr>\n",
       "      <th>generated</th>\n",
       "      <td>2.36</td>\n",
       "      <td>3.34</td>\n",
       "      <td>3.26</td>\n",
       "      <td>3.52</td>\n",
       "    </tr>\n",
       "  </tbody>\n",
       "</table>\n",
       "</div>"
      ],
      "text/plain": [
       "           pituitary  glioma  notumor  meningioma\n",
       "real            3.07    4.38     3.43        4.24\n",
       "generated       2.36    3.34     3.26        3.52"
      ]
     },
     "execution_count": 30,
     "metadata": {},
     "output_type": "execute_result"
    }
   ],
   "source": [
    "is_df = is_df.astype(float).round(2)\n",
    "is_df.to_csv(output_folder + csv_folder + \"/is.csv\")\n",
    "is_df"
   ]
  },
  {
   "cell_type": "markdown",
   "metadata": {},
   "source": [
    "### Kernel Inception Distance (KID)"
   ]
  },
  {
   "cell_type": "code",
   "execution_count": 34,
   "metadata": {},
   "outputs": [],
   "source": [
    "kid_df = pd.DataFrame(index=[\"avg\", \"std\"], columns=labels)"
   ]
  },
  {
   "cell_type": "markdown",
   "metadata": {},
   "source": [
    "#### glioma"
   ]
  },
  {
   "cell_type": "code",
   "execution_count": null,
   "metadata": {},
   "outputs": [],
   "source": [
    "generated_images_path = '/root/group2/generated_images/glioma_256'\n",
    "real_images_path = '/root/group2/data_256/Training/glioma'\n",
    "\n",
    "kid_score = calculate_metrics(\n",
    "    input1=generated_images_path, \n",
    "    input2=real_images_path,\n",
    "    isc=False, \n",
    "    fid=False, \n",
    "    kid=True,\n",
    "    kid_subset_size=92\n",
    ")\n",
    "kid_df.loc[\"avg\", \"glioma\"] = kid_score[\"kernel_inception_distance_mean\"]\n",
    "kid_df.loc[\"std\", \"glioma\"] = kid_score[\"kernel_inception_distance_std\"]\n",
    "# Print all keys in the returned dictionary\n",
    "print(\"Keys in returned dictionary:\", kid_score.keys())"
   ]
  },
  {
   "cell_type": "markdown",
   "metadata": {},
   "source": [
    "#### meningioma"
   ]
  },
  {
   "cell_type": "code",
   "execution_count": null,
   "metadata": {},
   "outputs": [],
   "source": [
    "kid_score = calculate_metrics(\n",
    "    input1=generated_images_path, \n",
    "    input2=real_images_path,\n",
    "    isc=False, \n",
    "    fid=False, \n",
    "    kid=True,\n",
    "    kid_subset_size=92\n",
    ")\n",
    "kid_df.loc[\"avg\", \"meningioma\"] = kid_score[\"kernel_inception_distance_mean\"]\n",
    "kid_df.loc[\"std\", \"meningioma\"] = kid_score[\"kernel_inception_distance_std\"]\n",
    "# Print all keys in the returned dictionary\n",
    "print(\"Keys in returned dictionary:\", kid_score.keys())"
   ]
  },
  {
   "cell_type": "markdown",
   "metadata": {},
   "source": [
    "#### pituitary"
   ]
  },
  {
   "cell_type": "code",
   "execution_count": null,
   "metadata": {},
   "outputs": [],
   "source": [
    "generated_images_path = '/root/group2/generated_images/pituitary_256'\n",
    "real_images_path = '/root/group2/data_256/Training/pituitary'\n",
    "\n",
    "kid_score = calculate_metrics(\n",
    "    input1=generated_images_path, \n",
    "    input2=real_images_path,\n",
    "    isc=False, \n",
    "    fid=False, \n",
    "    kid=True,\n",
    "    kid_subset_size=92\n",
    ")\n",
    "kid_df.loc[\"avg\", \"pituitary\"] = kid_score[\"kernel_inception_distance_mean\"]\n",
    "kid_df.loc[\"std\", \"pituitary\"] = kid_score[\"kernel_inception_distance_std\"]\n",
    "# Print all keys in the returned dictionary\n",
    "print(\"Keys in returned dictionary:\", kid_score.keys())"
   ]
  },
  {
   "cell_type": "markdown",
   "metadata": {},
   "source": [
    "#### notumor"
   ]
  },
  {
   "cell_type": "code",
   "execution_count": null,
   "metadata": {},
   "outputs": [],
   "source": [
    "generated_images_path = '/root/group2/generated_images/notumor_256'\n",
    "real_images_path = '/root/group2/data_256/Training/notumor'\n",
    "\n",
    "kid_score = calculate_metrics(\n",
    "    input1=generated_images_path, \n",
    "    input2=real_images_path,\n",
    "    isc=False, \n",
    "    fid=False, \n",
    "    kid=True,\n",
    "    kid_subset_size=92\n",
    ")\n",
    "kid_df.loc[\"avg\", \"notumor\"] = kid_score[\"kernel_inception_distance_mean\"]\n",
    "kid_df.loc[\"std\", \"notumor\"] = kid_score[\"kernel_inception_distance_std\"]\n",
    "# Print all keys in the returned dictionary\n",
    "print(\"Keys in returned dictionary:\", kid_score.keys())"
   ]
  },
  {
   "cell_type": "code",
   "execution_count": 35,
   "metadata": {},
   "outputs": [
    {
     "data": {
      "text/html": [
       "<div>\n",
       "<style scoped>\n",
       "    .dataframe tbody tr th:only-of-type {\n",
       "        vertical-align: middle;\n",
       "    }\n",
       "\n",
       "    .dataframe tbody tr th {\n",
       "        vertical-align: top;\n",
       "    }\n",
       "\n",
       "    .dataframe thead th {\n",
       "        text-align: right;\n",
       "    }\n",
       "</style>\n",
       "<table border=\"1\" class=\"dataframe\">\n",
       "  <thead>\n",
       "    <tr style=\"text-align: right;\">\n",
       "      <th></th>\n",
       "      <th>pituitary</th>\n",
       "      <th>glioma</th>\n",
       "      <th>notumor</th>\n",
       "      <th>meningioma</th>\n",
       "    </tr>\n",
       "  </thead>\n",
       "  <tbody>\n",
       "    <tr>\n",
       "      <th>avg</th>\n",
       "      <td>0.07</td>\n",
       "      <td>0.05</td>\n",
       "      <td>0.04</td>\n",
       "      <td>0.04</td>\n",
       "    </tr>\n",
       "    <tr>\n",
       "      <th>std</th>\n",
       "      <td>0.01</td>\n",
       "      <td>0.01</td>\n",
       "      <td>0.00</td>\n",
       "      <td>0.00</td>\n",
       "    </tr>\n",
       "  </tbody>\n",
       "</table>\n",
       "</div>"
      ],
      "text/plain": [
       "     pituitary  glioma  notumor  meningioma\n",
       "avg       0.07    0.05     0.04        0.04\n",
       "std       0.01    0.01     0.00        0.00"
      ]
     },
     "execution_count": 35,
     "metadata": {},
     "output_type": "execute_result"
    }
   ],
   "source": [
    "kid_df = kid_df.astype(float).round(2)\n",
    "kid_df.to_csv(output_folder + csv_folder + \"/kid.csv\")\n",
    "kid_df"
   ]
  }
 ],
 "metadata": {
  "kernelspec": {
   "display_name": "Python 3",
   "language": "python",
   "name": "python3"
  },
  "language_info": {
   "codemirror_mode": {
    "name": "ipython",
    "version": 3
   },
   "file_extension": ".py",
   "mimetype": "text/x-python",
   "name": "python",
   "nbconvert_exporter": "python",
   "pygments_lexer": "ipython3",
   "version": "3.9.6"
  }
 },
 "nbformat": 4,
 "nbformat_minor": 2
}
